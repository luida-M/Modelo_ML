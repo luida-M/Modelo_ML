{
  "cells": [
    {
      "cell_type": "markdown",
      "metadata": {
        "id": "view-in-github",
        "colab_type": "text"
      },
      "source": [
        "<a href=\"https://colab.research.google.com/github/luida-M/Modelo_ML/blob/main/Proyecto_ParteIII%2BMedina_Tenorio.ipynb\" target=\"_parent\"><img src=\"https://colab.research.google.com/assets/colab-badge.svg\" alt=\"Open In Colab\"/></a>"
      ]
    },
    {
      "cell_type": "code",
      "execution_count": null,
      "metadata": {
        "colab": {
          "base_uri": "https://localhost:8080/"
        },
        "id": "hycuuW6M_z0a",
        "outputId": "7dece7af-7a2f-48e8-96e4-f0750a9d3814"
      },
      "outputs": [
        {
          "output_type": "stream",
          "name": "stdout",
          "text": [
            "Drive already mounted at /content/drive; to attempt to forcibly remount, call drive.mount(\"/content/drive\", force_remount=True).\n",
            "shell-init: error retrieving current directory: getcwd: cannot access parent directories: No such file or directory\n",
            "fatal: could not create work tree dir 'Modelo_ML': Transport endpoint is not connected\n"
          ]
        }
      ],
      "source": [
        "#Montar tu Google Drive en tu entorno de Google Colab\n",
        "from google.colab import drive\n",
        "drive.mount('/content/drive')\n",
        "\n",
        "# Clonar el repositorio de GitHub\n",
        "!git clone https://github.com/luida-M/Modelo_ML.git\n",
        "\n",
        "import os\n",
        "os.chdir('Modelo_ML')\n",
        "\n",
        "#Importa librerias necesarias\n",
        "\n",
        "import pandas as pd\n",
        "import numpy as np\n",
        "from matplotlib import pyplot as plt\n",
        "from sklearn import datasets\n",
        "from sklearn.tree import DecisionTreeClassifier\n",
        "from sklearn import tree\n",
        "\n",
        "# Cargar datos desde Google Sheets\n",
        "df = pd.read_csv(\"/content/gdrive/MyDrive/Colab Notebooks/ventas-totales-supermercados-2.gsheet\")\n",
        "\n",
        "# Verifica que las columnas se hayan cargado correctamente\n",
        "print(df.head())\n",
        "\n",
        "# Para este ejemplo, supongamos que 'ventas_precios_corrientes' es la variable objetivo (target)\n",
        "# y que queremos predecirla usando las demás columnas como características (features).\n",
        "\n",
        "# Separar las características (X) y la variable objetivo (y)\n",
        "X = df.drop(df['indice_tiempo','ventas_precios_corrientes',\n",
        "       'ventas_precios_constantes', 'ventas_totales_canal_venta',\n",
        "       'salon_ventas', 'canales_on_line', 'ventas_totales_medio_pago',\n",
        "       'efectivo', 'tarjetas_debito', 'tarjetas_credito', 'otros_medios',\n",
        "       'ventas_totales_grupo_articulos', 'subtotal_ventas_alimentos_bebidas',\n",
        "       'bebidas', 'almacen', 'panaderia', 'lacteos', 'carnes',\n",
        "       'verduleria_fruteria', 'alimentos_preparados_rotiseria',\n",
        "       'articulos_limpieza_perfumeria', 'indumentaria_calzado_textiles_hogar',\n",
        "       'electronicos_articulos_hogar', 'otros'], axis=1)  # Elimina la columna de tiempo si no es útil\n",
        "y = df['ventas_precios_corrientes']\n",
        "\n",
        "# Ajustar el árbol de decisión con hiperparámetros por defecto\n",
        "clf = DecisionTreeClassifier(random_state=1234)\n",
        "model = clf.fit(X, y)\n",
        "\n",
        "# Graficar el árbol de decisión\n",
        "fig = plt.figure(figsize=(18,10))\n",
        "_ = tree.plot_tree(clf, feature_names=X.columns, filled=True)\n",
        "\n",
        "plt.show()\n"
      ]
    },
    {
      "cell_type": "code",
      "source": [],
      "metadata": {
        "id": "GpVLA5XwYUrh"
      },
      "execution_count": null,
      "outputs": []
    }
  ],
  "metadata": {
    "colab": {
      "provenance": [],
      "mount_file_id": "11xeS8SDCgzEuRTBIPpxS78I1-amS6T8k",
      "authorship_tag": "ABX9TyMvzdz/bRM1HtmnqS0N+pn/",
      "include_colab_link": true
    },
    "kernelspec": {
      "display_name": "Python 3",
      "name": "python3"
    },
    "language_info": {
      "name": "python"
    }
  },
  "nbformat": 4,
  "nbformat_minor": 0
}